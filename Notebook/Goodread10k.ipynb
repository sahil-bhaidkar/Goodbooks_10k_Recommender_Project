{
 "cells": [
  {
   "cell_type": "markdown",
   "metadata": {},
   "source": [
    "### Libraries Installations :"
   ]
  },
  {
   "cell_type": "code",
   "execution_count": 1,
   "metadata": {},
   "outputs": [],
   "source": [
    "!pip install pandas numpy scikit-learn scipy matplotlib seaborn flask -q\n"
   ]
  },
  {
   "cell_type": "code",
   "execution_count": null,
   "metadata": {},
   "outputs": [],
   "source": [
    "import pandas as pd\n",
    "import numpy as np\n",
    "import matplotlib.pyplot as plt\n",
    "import seaborn as sns"
   ]
  },
  {
   "cell_type": "markdown",
   "metadata": {},
   "source": [
    "### Reading Data :"
   ]
  },
  {
   "cell_type": "code",
   "execution_count": null,
   "metadata": {},
   "outputs": [],
   "source": [
    "ratingsdf = pd.read_csv('''D:/github/Goodbooks_10k_Recommender_Project/Goodbooks_10k_Recommender_Project/Dataset/ratings.csv''')\n",
    "booksdf = pd.read_csv('''D:/github/Goodbooks_10k_Recommender_Project/Goodbooks_10k_Recommender_Project/Dataset/books.csv''')\n",
    "to_readdf = pd.read_csv(r'''D:/github/Goodbooks_10k_Recommender_Project/Goodbooks_10k_Recommender_Project/Dataset/to_read.csv''')\n",
    "book_tagsdf = pd.read_csv(r'''D:/github/Goodbooks_10k_Recommender_Project/Goodbooks_10k_Recommender_Project/Dataset/book_tags.csv''')\n",
    "tagsdf = pd.read_csv(r'''D:/github/Goodbooks_10k_Recommender_Project/Goodbooks_10k_Recommender_Project/Dataset/tags.csv''')"
   ]
  },
  {
   "cell_type": "code",
   "execution_count": null,
   "metadata": {},
   "outputs": [],
   "source": [
    "print(ratingsdf.head(2))\n",
    "print(booksdf.head(2))\n",
    "print(to_readdf.head(2))\n",
    "print(book_tagsdf.head(2))\n",
    "print(tagsdf.head(2))"
   ]
  },
  {
   "cell_type": "code",
   "execution_count": null,
   "metadata": {},
   "outputs": [],
   "source": [
    "# Check for missing values\n",
    "ratingsdf.isnull().sum()"
   ]
  },
  {
   "cell_type": "code",
   "execution_count": null,
   "metadata": {},
   "outputs": [],
   "source": [
    "booksdf.isnull().sum().sum()"
   ]
  },
  {
   "cell_type": "code",
   "execution_count": null,
   "metadata": {},
   "outputs": [],
   "source": [
    "to_readdf.isnull().sum()"
   ]
  },
  {
   "cell_type": "code",
   "execution_count": null,
   "metadata": {},
   "outputs": [],
   "source": [
    "book_tagsdf.isnull().sum()"
   ]
  },
  {
   "cell_type": "code",
   "execution_count": null,
   "metadata": {},
   "outputs": [],
   "source": [
    "tagsdf.isnull().sum()"
   ]
  },
  {
   "cell_type": "code",
   "execution_count": null,
   "metadata": {},
   "outputs": [],
   "source": [
    "booksdf['original_publication_year'] = booksdf['original_publication_year'].fillna(booksdf['original_publication_year'].mean())"
   ]
  },
  {
   "cell_type": "code",
   "execution_count": null,
   "metadata": {},
   "outputs": [],
   "source": [
    "booksdf['original_title'] = booksdf['original_title'].fillna(booksdf['original_title'].mode()[0])"
   ]
  },
  {
   "cell_type": "code",
   "execution_count": null,
   "metadata": {},
   "outputs": [],
   "source": [
    "booksdf['language_code'] = booksdf['language_code'].fillna('Unknown')"
   ]
  },
  {
   "cell_type": "code",
   "execution_count": null,
   "metadata": {},
   "outputs": [],
   "source": [
    "# Merge ratings with books metadata on book_id\n",
    "master_data = ratingsdf.merge(booksdf, on='book_id', how='left')\n"
   ]
  },
  {
   "cell_type": "code",
   "execution_count": null,
   "metadata": {},
   "outputs": [],
   "source": [
    "master_data.head(3)"
   ]
  },
  {
   "cell_type": "code",
   "execution_count": null,
   "metadata": {},
   "outputs": [],
   "source": [
    "# Merge book_tags with tags to get tag names\n",
    "book_tagsdf = book_tagsdf.merge(tagsdf, on='tag_id', how='left')"
   ]
  },
  {
   "cell_type": "code",
   "execution_count": null,
   "metadata": {},
   "outputs": [],
   "source": [
    "book_tagsdf.head(3)"
   ]
  },
  {
   "cell_type": "code",
   "execution_count": null,
   "metadata": {},
   "outputs": [],
   "source": [
    "# Merge book_tags with tags to get tag names\n",
    "book_tagsdf = book_tagsdf.merge(tagsdf, on='tag_id', how='left')\n"
   ]
  },
  {
   "cell_type": "code",
   "execution_count": null,
   "metadata": {},
   "outputs": [],
   "source": [
    "book_tagsdf.head(3)"
   ]
  },
  {
   "cell_type": "code",
   "execution_count": null,
   "metadata": {},
   "outputs": [],
   "source": [
    "# Aggregate tags for each book\n",
    "tags_aggregated = book_tagsdf.groupby('goodreads_book_id')['tag_name'].apply(lambda x: ', '.join(x)).reset_index()\n",
    "\n",
    "# Display the first few rows of the aggregated tags DataFrame\n",
    "print(tags_aggregated.head())\n"
   ]
  },
  {
   "cell_type": "code",
   "execution_count": null,
   "metadata": {},
   "outputs": [],
   "source": [
    "# Merge aggregated tags with the master_data\n",
    "master_data = master_data.merge(tags_aggregated, left_on='goodreads_book_id', right_on='goodreads_book_id', how='left')\n",
    "\n",
    "# Display the first few rows of the updated master DataFrame\n",
    "print(master_data.head())\n"
   ]
  },
  {
   "cell_type": "code",
   "execution_count": null,
   "metadata": {},
   "outputs": [],
   "source": [
    "# Save the master DataFrame to a CSV file for future analysis\n",
    "master_data.to_csv(r'D:/github/Goodbooks_10k_Recommender_Project/Goodbooks_10k_Recommender_Project/Dataset/master_data.csv', index=False)\n"
   ]
  },
  {
   "cell_type": "code",
   "execution_count": null,
   "metadata": {},
   "outputs": [],
   "source": []
  }
 ],
 "metadata": {
  "kernelspec": {
   "display_name": "Python 3",
   "language": "python",
   "name": "python3"
  },
  "language_info": {
   "codemirror_mode": {
    "name": "ipython",
    "version": 3
   },
   "file_extension": ".py",
   "mimetype": "text/x-python",
   "name": "python",
   "nbconvert_exporter": "python",
   "pygments_lexer": "ipython3",
   "version": "3.12.4"
  }
 },
 "nbformat": 4,
 "nbformat_minor": 2
}
